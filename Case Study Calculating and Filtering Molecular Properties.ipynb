{
 "cells": [
  {
   "cell_type": "markdown",
   "metadata": {},
   "source": [
    "# Chemical Data Analysis Workflow: Filtering Compounds by Molecular Weight\n",
    "\n",
    "This notebook demonstrates a complete workflow for processing chemical data:\n",
    "1. Loading compound data from CSV\n",
    "2. Converting SMILES to molecular objects\n",
    "3. Calculating molecular descriptors\n",
    "4. Filtering based on criteria\n",
    "5. Exporting results\n",
    "\n",
    "**Required Libraries**: pandas, rdkit"
   ]
  },
  {
   "cell_type": "markdown",
   "metadata": {},
   "source": [
    "## Step 1: Import Required Libraries"
   ]
  },
  {
   "cell_type": "code",
   "execution_count": 1,
   "metadata": {},
   "outputs": [],
   "source": [
    "import pandas as pd\n",
    "from rdkit import Chem\n",
    "from rdkit.Chem import Descriptors\n",
    "import warnings\n",
    "warnings.filterwarnings('ignore')"
   ]
  },
  {
   "cell_type": "markdown",
   "metadata": {},
   "source": [
    "## Step 2: Load Compound Data\n",
    "\n",
    "Load a CSV file containing compound names and SMILES strings. The file should have at least two columns:\n",
    "- `Name`: Compound name\n",
    "- `SMILES`: SMILES notation for the molecular structure"
   ]
  },
  {
   "cell_type": "code",
   "execution_count": 2,
   "metadata": {},
   "outputs": [
    {
     "name": "stdout",
     "output_type": "stream",
     "text": [
      "Loaded 10 compounds from file\n",
      "\n",
      "First few entries:\n"
     ]
    },
    {
     "data": {
      "text/html": [
       "<div>\n",
       "<style scoped>\n",
       "    .dataframe tbody tr th:only-of-type {\n",
       "        vertical-align: middle;\n",
       "    }\n",
       "\n",
       "    .dataframe tbody tr th {\n",
       "        vertical-align: top;\n",
       "    }\n",
       "\n",
       "    .dataframe thead th {\n",
       "        text-align: right;\n",
       "    }\n",
       "</style>\n",
       "<table border=\"1\" class=\"dataframe\">\n",
       "  <thead>\n",
       "    <tr style=\"text-align: right;\">\n",
       "      <th></th>\n",
       "      <th>Name</th>\n",
       "      <th>SMILES</th>\n",
       "    </tr>\n",
       "  </thead>\n",
       "  <tbody>\n",
       "    <tr>\n",
       "      <th>0</th>\n",
       "      <td>Aspirin</td>\n",
       "      <td>CC(=O)OC1=CC=CC=C1C(=O)O</td>\n",
       "    </tr>\n",
       "    <tr>\n",
       "      <th>1</th>\n",
       "      <td>Caffeine</td>\n",
       "      <td>CN1C=NC2=C1C(=O)N(C(=O)N2C)C</td>\n",
       "    </tr>\n",
       "    <tr>\n",
       "      <th>2</th>\n",
       "      <td>Ibuprofen</td>\n",
       "      <td>CC(C)CC1=CC=C(C=C1)C(C)C(=O)O</td>\n",
       "    </tr>\n",
       "  </tbody>\n",
       "</table>\n",
       "</div>"
      ],
      "text/plain": [
       "        Name                         SMILES\n",
       "0    Aspirin       CC(=O)OC1=CC=CC=C1C(=O)O\n",
       "1   Caffeine   CN1C=NC2=C1C(=O)N(C(=O)N2C)C\n",
       "2  Ibuprofen  CC(C)CC1=CC=C(C=C1)C(C)C(=O)O"
      ]
     },
     "execution_count": 2,
     "metadata": {},
     "output_type": "execute_result"
    }
   ],
   "source": [
    "# Load compounds from CSV file\n",
    "df = pd.read_csv(\"compounds.csv\")\n",
    "\n",
    "print(f\"Loaded {len(df)} compounds from file\\n\")\n",
    "print(\"First few entries:\")\n",
    "df.head(3)"
   ]
  },
  {
   "cell_type": "markdown",
   "metadata": {},
   "source": [
    "## Step 3: Convert SMILES to Molecular Objects\n",
    "\n",
    "RDKit's `MolFromSmiles()` function parses SMILES strings and creates molecule objects that can be used for descriptor calculations. Invalid SMILES will return `None`."
   ]
  },
  {
   "cell_type": "code",
   "execution_count": 3,
   "metadata": {},
   "outputs": [
    {
     "name": "stdout",
     "output_type": "stream",
     "text": [
      "Successfully converted 10 SMILES strings to molecule objects\n",
      "Invalid SMILES: 0\n"
     ]
    }
   ],
   "source": [
    "# Convert SMILES to molecular objects\n",
    "df[\"Mol\"] = df[\"SMILES\"].apply(Chem.MolFromSmiles)\n",
    "\n",
    "# Count valid and invalid molecules\n",
    "valid_count = df[\"Mol\"].notnull().sum()\n",
    "invalid_count = df[\"Mol\"].isnull().sum()\n",
    "\n",
    "print(f\"Successfully converted {valid_count} SMILES strings to molecule objects\")\n",
    "print(f\"Invalid SMILES: {invalid_count}\")"
   ]
  },
  {
   "cell_type": "markdown",
   "metadata": {},
   "source": [
    "## Step 4: Remove Invalid Molecules\n",
    "\n",
    "Before calculating descriptors, remove any rows with invalid SMILES (where `Mol` is `None`)."
   ]
  },
  {
   "cell_type": "code",
   "execution_count": 4,
   "metadata": {},
   "outputs": [
    {
     "name": "stdout",
     "output_type": "stream",
     "text": [
      "Dataset after removing invalid molecules: 10 compounds\n"
     ]
    }
   ],
   "source": [
    "# Drop rows where molecule object is None (invalid SMILES)\n",
    "df = df[df[\"Mol\"].notnull()]\n",
    "\n",
    "print(f\"Dataset after removing invalid molecules: {len(df)} compounds\")"
   ]
  },
  {
   "cell_type": "markdown",
   "metadata": {},
   "source": [
    "## Step 5: Calculate Molecular Weight\n",
    "\n",
    "The `Descriptors.MolWt()` function calculates molecular weight by summing the atomic masses of all atoms in the molecule."
   ]
  },
  {
   "cell_type": "code",
   "execution_count": 5,
   "metadata": {},
   "outputs": [
    {
     "name": "stdout",
     "output_type": "stream",
     "text": [
      "Molecular weight statistics:\n",
      "  Mean: 234.15 g/mol\n",
      "  Min: 46.07 g/mol\n",
      "  Max: 584.68 g/mol\n",
      "  Std: 165.43 g/mol\n"
     ]
    }
   ],
   "source": [
    "# Calculate molecular weights for valid molecules\n",
    "df[\"MolWt\"] = df[\"Mol\"].apply(Descriptors.MolWt)\n",
    "\n",
    "# Display statistics\n",
    "print(\"Molecular weight statistics:\")\n",
    "print(f\"  Mean: {df['MolWt'].mean():.2f} g/mol\")\n",
    "print(f\"  Min: {df['MolWt'].min():.2f} g/mol\")\n",
    "print(f\"  Max: {df['MolWt'].max():.2f} g/mol\")\n",
    "print(f\"  Std: {df['MolWt'].std():.2f} g/mol\")"
   ]
  },
  {
   "cell_type": "markdown",
   "metadata": {},
   "source": [
    "## Step 6: View Complete Dataset\n",
    "\n",
    "Display the dataset with calculated molecular weights:"
   ]
  },
  {
   "cell_type": "code",
   "execution_count": 6,
   "metadata": {},
   "outputs": [
    {
     "data": {
      "text/html": [
       "<div>\n",
       "<style scoped>\n",
       "    .dataframe tbody tr th:only-of-type {\n",
       "        vertical-align: middle;\n",
       "    }\n",
       "\n",
       "    .dataframe tbody tr th {\n",
       "        vertical-align: top;\n",
       "    }\n",
       "\n",
       "    .dataframe thead th {\n",
       "        text-align: right;\n",
       "    }\n",
       "</style>\n",
       "<table border=\"1\" class=\"dataframe\">\n",
       "  <thead>\n",
       "    <tr style=\"text-align: right;\">\n",
       "      <th></th>\n",
       "      <th>Name</th>\n",
       "      <th>SMILES</th>\n",
       "      <th>MolWt</th>\n",
       "    </tr>\n",
       "  </thead>\n",
       "  <tbody>\n",
       "    <tr>\n",
       "      <th>0</th>\n",
       "      <td>Aspirin</td>\n",
       "      <td>CC(=O)OC1=CC=CC=C1C(=O)O</td>\n",
       "      <td>180.159</td>\n",
       "    </tr>\n",
       "    <tr>\n",
       "      <th>1</th>\n",
       "      <td>Caffeine</td>\n",
       "      <td>CN1C=NC2=C1C(=O)N(C(=O)N2C)C</td>\n",
       "      <td>194.194</td>\n",
       "    </tr>\n",
       "    <tr>\n",
       "      <th>2</th>\n",
       "      <td>Ibuprofen</td>\n",
       "      <td>CC(C)CC1=CC=C(C=C1)C(C)C(=O)O</td>\n",
       "      <td>206.285</td>\n",
       "    </tr>\n",
       "    <tr>\n",
       "      <th>3</th>\n",
       "      <td>Ethanol</td>\n",
       "      <td>CCO</td>\n",
       "      <td>46.069</td>\n",
       "    </tr>\n",
       "    <tr>\n",
       "      <th>4</th>\n",
       "      <td>Benzene</td>\n",
       "      <td>C1=CC=CC=C1</td>\n",
       "      <td>78.114</td>\n",
       "    </tr>\n",
       "  </tbody>\n",
       "</table>\n",
       "</div>"
      ],
      "text/plain": [
       "        Name                         SMILES    MolWt\n",
       "0    Aspirin       CC(=O)OC1=CC=CC=C1C(=O)O  180.159\n",
       "1   Caffeine   CN1C=NC2=C1C(=O)N(C(=O)N2C)C  194.194\n",
       "2  Ibuprofen  CC(C)CC1=CC=C(C=C1)C(C)C(=O)O  206.285\n",
       "3    Ethanol                            CCO   46.069\n",
       "4    Benzene                    C1=CC=CC=C1   78.114"
      ]
     },
     "execution_count": 6,
     "metadata": {},
     "output_type": "execute_result"
    }
   ],
   "source": [
    "# Display dataset (excluding Mol column for readability)\n",
    "df[[\"Name\", \"SMILES\", \"MolWt\"]].head()"
   ]
  },
  {
   "cell_type": "markdown",
   "metadata": {},
   "source": [
    "## Step 7: Filter Compounds by Molecular Weight\n",
    "\n",
    "Apply a molecular weight cutoff of 500 g/mol, following Lipinski's Rule of Five for drug-likeness. This filters out compounds that may have poor oral bioavailability."
   ]
  },
  {
   "cell_type": "code",
   "execution_count": 7,
   "metadata": {},
   "outputs": [
    {
     "name": "stdout",
     "output_type": "stream",
     "text": [
      "Compounds before filtering: 10\n",
      "Compounds after filtering (MW < 500): 8\n",
      "Removed: 2 compounds (20.0%)\n"
     ]
    }
   ],
   "source": [
    "# Filter compounds with molecular weight less than 500 g/mol\n",
    "mw_cutoff = 500\n",
    "initial_count = len(df)\n",
    "filtered = df[df[\"MolWt\"] < mw_cutoff].copy()\n",
    "final_count = len(filtered)\n",
    "\n",
    "print(f\"Compounds before filtering: {initial_count}\")\n",
    "print(f\"Compounds after filtering (MW < {mw_cutoff}): {final_count}\")\n",
    "print(f\"Removed: {initial_count - final_count} compounds ({(initial_count - final_count)/initial_count*100:.1f}%)\")"
   ]
  },
  {
   "cell_type": "markdown",
   "metadata": {},
   "source": [
    "## Step 8: Display Filtered Results"
   ]
  },
  {
   "cell_type": "code",
   "execution_count": 8,
   "metadata": {},
   "outputs": [
    {
     "name": "stdout",
     "output_type": "stream",
     "text": [
      "Filtered compounds (first 5):\n"
     ]
    },
    {
     "data": {
      "text/html": [
       "<div>\n",
       "<style scoped>\n",
       "    .dataframe tbody tr th:only-of-type {\n",
       "        vertical-align: middle;\n",
       "    }\n",
       "\n",
       "    .dataframe tbody tr th {\n",
       "        vertical-align: top;\n",
       "    }\n",
       "\n",
       "    .dataframe thead th {\n",
       "        text-align: right;\n",
       "    }\n",
       "</style>\n",
       "<table border=\"1\" class=\"dataframe\">\n",
       "  <thead>\n",
       "    <tr style=\"text-align: right;\">\n",
       "      <th></th>\n",
       "      <th>Name</th>\n",
       "      <th>MolWt</th>\n",
       "    </tr>\n",
       "  </thead>\n",
       "  <tbody>\n",
       "    <tr>\n",
       "      <th>0</th>\n",
       "      <td>Aspirin</td>\n",
       "      <td>180.159</td>\n",
       "    </tr>\n",
       "    <tr>\n",
       "      <th>1</th>\n",
       "      <td>Caffeine</td>\n",
       "      <td>194.194</td>\n",
       "    </tr>\n",
       "    <tr>\n",
       "      <th>2</th>\n",
       "      <td>Ibuprofen</td>\n",
       "      <td>206.285</td>\n",
       "    </tr>\n",
       "    <tr>\n",
       "      <th>3</th>\n",
       "      <td>Ethanol</td>\n",
       "      <td>46.069</td>\n",
       "    </tr>\n",
       "    <tr>\n",
       "      <th>4</th>\n",
       "      <td>Benzene</td>\n",
       "      <td>78.114</td>\n",
       "    </tr>\n",
       "  </tbody>\n",
       "</table>\n",
       "</div>"
      ],
      "text/plain": [
       "        Name    MolWt\n",
       "0    Aspirin  180.159\n",
       "1   Caffeine  194.194\n",
       "2  Ibuprofen  206.285\n",
       "3    Ethanol   46.069\n",
       "4    Benzene   78.114"
      ]
     },
     "execution_count": 8,
     "metadata": {},
     "output_type": "execute_result"
    }
   ],
   "source": [
    "print(\"Filtered compounds (first 5):\")\n",
    "filtered[[\"Name\", \"MolWt\"]].head()"
   ]
  },
  {
   "cell_type": "markdown",
   "metadata": {},
   "source": [
    "## Step 9: Save Filtered Results\n",
    "\n",
    "Export the filtered dataset to a new CSV file for further analysis or sharing with collaborators."
   ]
  },
  {
   "cell_type": "code",
   "execution_count": 9,
   "metadata": {},
   "outputs": [
    {
     "name": "stdout",
     "output_type": "stream",
     "text": [
      "✓ Filtered results saved to 'filtered_compounds.csv'\n",
      "  File contains 8 compounds\n"
     ]
    }
   ],
   "source": [
    "# Save to CSV (excluding the Mol object column)\n",
    "output_columns = [\"Name\", \"SMILES\", \"MolWt\"]\n",
    "filtered[output_columns].to_csv(\"filtered_compounds.csv\", index=False)\n",
    "\n",
    "print(\"✓ Filtered results saved to 'filtered_compounds.csv'\")\n",
    "print(f\"  File contains {len(filtered)} compounds\")"
   ]
  },
  {
   "cell_type": "markdown",
   "metadata": {},
   "source": [
    "## Output Explanation\n",
    "\n",
    "The final output shows a DataFrame with filtered compounds. Key points:\n",
    "\n",
    "**Column Structure**:\n",
    "- `Name`: Compound name (original from input)\n",
    "- `MolWt`: Calculated molecular weight in g/mol (3 decimal places)\n",
    "\n",
    "**Data Quality**:\n",
    "- All displayed compounds have molecular weight < 500 g/mol\n",
    "- Invalid SMILES strings were removed in earlier steps\n",
    "- Molecular weights are exact calculations from atomic masses\n",
    "\n",
    "**Chemical Interpretation**:\n",
    "- **Ethanol (46.07 g/mol)**: Simple alcohol, smallest molecule\n",
    "- **Benzene (78.11 g/mol)**: Aromatic compound, reference structure\n",
    "- **Aspirin (180.16 g/mol)**: Common analgesic, drug-like properties\n",
    "- **Caffeine (194.19 g/mol)**: Stimulant, heterocyclic compound\n",
    "- **Ibuprofen (206.29 g/mol)**: NSAID, good oral bioavailability\n",
    "\n",
    "All compounds pass the Lipinski MW criterion (≤ 500 g/mol), suggesting favorable drug-like properties for oral administration."
   ]
  },
  {
   "cell_type": "markdown",
   "metadata": {},
   "source": [
    "## Workflow Summary\n",
    "\n",
    "This notebook demonstrated a complete cheminformatics workflow:\n",
    "\n",
    "1. **Data Loading**: Read compound data from external CSV files\n",
    "2. **Structure Parsing**: Convert SMILES strings to RDKit molecule objects\n",
    "3. **Quality Control**: Identify and remove invalid molecular structures\n",
    "4. **Descriptor Calculation**: Compute molecular weight for all valid compounds\n",
    "5. **Data Filtering**: Apply molecular weight cutoff for drug-likeness\n",
    "6. **Result Export**: Save filtered data for downstream analysis\n",
    "\n",
    "### Key Concepts Illustrated:\n",
    "\n",
    "- **Pandas integration**: Efficient handling of chemical datasets\n",
    "- **RDKit capabilities**: SMILES parsing and descriptor calculation\n",
    "- **Data quality**: Handling invalid structures gracefully\n",
    "- **Filtering logic**: Applying chemical criteria (Lipinski's rules)\n",
    "- **Reproducibility**: Complete workflow from input to output\n",
    "\n",
    "### Extending This Workflow:\n",
    "\n",
    "This template can be adapted for:\n",
    "- Calculating additional descriptors (LogP, TPSA, H-bond donors/acceptors)\n",
    "- Multi-criteria filtering (drug-likeness, ADMET properties)\n",
    "- Batch processing of large compound libraries\n",
    "- Integration with machine learning pipelines\n",
    "- Automated reporting and visualization\n",
    "\n",
    "### Representative of Modern Computational Chemistry:\n",
    "\n",
    "This workflow exemplifies how Python combines:\n",
    "- **Chemical knowledge** (molecular structure, drug-likeness)\n",
    "- **Programming skills** (data manipulation, logical filtering)\n",
    "- **Statistical thinking** (descriptor analysis, cutoff selection)\n",
    "- **Practical utility** (reproducible, shareable, scalable)\n",
    "\n",
    "The same principles apply to more complex tasks in drug discovery, materials design, and chemical data mining."
   ]
  },
  {
   "cell_type": "markdown",
   "metadata": {},
   "source": [
    "## Exercises\n",
    "\n",
    "Try modifying this notebook to:\n",
    "\n",
    "1. Calculate additional descriptors: LogP, TPSA, number of rotatable bonds\n",
    "2. Filter by multiple criteria (e.g., MW < 500 AND LogP < 5)\n",
    "3. Create a visualization of molecular weight distribution\n",
    "4. Identify compounds that violate Lipinski's Rule of Five\n",
    "5. Compare filtered vs. rejected compounds using boxplots"
   ]
  }
 ],
 "metadata": {
  "kernelspec": {
   "display_name": "Python 3",
   "language": "python",
   "name": "python3"
  },
  "language_info": {
   "codemirror_mode": {
    "name": "ipython",
    "version": 3
   },
   "file_extension": ".py",
   "mimetype": "text/x-python",
   "name": "python",
   "nbconvert_exporter": "python",
   "pygments_lexer": "ipython3",
   "version": "3.9.0"
  }
 },
 "nbformat": 4,
 "nbformat_minor": 4
}